{
  "nbformat": 4,
  "nbformat_minor": 0,
  "metadata": {
    "colab": {
      "provenance": [],
      "authorship_tag": "ABX9TyODfXibXDQwmOxLsbpyc73A",
      "include_colab_link": true
    },
    "kernelspec": {
      "name": "python3",
      "display_name": "Python 3"
    },
    "language_info": {
      "name": "python"
    }
  },
  "cells": [
    {
      "cell_type": "markdown",
      "metadata": {
        "id": "view-in-github",
        "colab_type": "text"
      },
      "source": [
        "<a href=\"https://colab.research.google.com/github/sakuna47/ML_BankingSystem1/blob/main/Untitled10.ipynb\" target=\"_parent\"><img src=\"https://colab.research.google.com/assets/colab-badge.svg\" alt=\"Open In Colab\"/></a>"
      ]
    },
    {
      "cell_type": "code",
      "execution_count": null,
      "metadata": {
        "id": "Ag0SOmJdHD94"
      },
      "outputs": [],
      "source": [
        "# Importing necessary libraries\n",
        "!pip install imblearn\n",
        "import pandas as pd\n",
        "import numpy as np\n",
        "from sklearn.model_selection import train_test_split, GridSearchCV\n",
        "from sklearn.ensemble import RandomForestClassifier\n",
        "from sklearn.neural_network import MLPClassifier\n",
        "from sklearn.preprocessing import StandardScaler, LabelEncoder\n",
        "from sklearn.metrics import accuracy_score, precision_score, recall_score, f1_score, classification_report, confusion_matrix\n",
        "import matplotlib.pyplot as plt\n",
        "import seaborn as sns\n",
        "from imblearn.over_sampling import SMOTE\n",
        "\n",
        "# Mount Google Drive\n",
        "from google.colab import drive\n",
        "drive.mount('/content/drive')\n",
        "\n",
        "# Load the dataset from Google Drive\n",
        "file_path = '/content/drive/My Drive/bank-additional-full.csv'\n",
        "data = pd.read_csv(file_path, sep=';')\n",
        "\n",
        "# Data Preparation\n",
        "print(\"Dataset Shape:\", data.shape)\n",
        "print(\"\\nDataset Overview:\")\n",
        "print(data.head())\n",
        "\n",
        "# Check for missing values\n",
        "print(\"\\nMissing Values:\")\n",
        "print(data.isnull().sum())\n",
        "\n",
        "# Handle missing values (if any)\n",
        "# Dropping rows with missing values\n",
        "if data.isnull().sum().sum() > 0:\n",
        "    data = data.dropna()\n",
        "    print(\"\\nMissing values were found and handled by dropping rows.\")\n",
        "else:\n",
        "    print(\"\\nNo missing values found.\")\n",
        "\n",
        "# Exploratory Data Analysis (EDA)\n",
        "print(\"\\nClass Distribution:\")\n",
        "print(data['y'].value_counts())\n",
        "sns.countplot(x='y', data=data)\n",
        "plt.title(\"Class Distribution\")\n",
        "plt.show()\n",
        "\n",
        "# Encoding categorical variables\n",
        "categorical_columns = data.select_dtypes(include=['object']).columns\n",
        "label_encoders = {}\n",
        "\n",
        "for col in categorical_columns:\n",
        "    if col != 'y':\n",
        "        le = LabelEncoder()\n",
        "        data[col] = le.fit_transform(data[col])\n",
        "        label_encoders[col] = le\n",
        "\n",
        "# Encode the target variable\n",
        "data['y'] = data['y'].map({'yes': 1, 'no': 0})\n",
        "\n",
        "# Ensure target variable is correctly formatted\n",
        "y = data['y'].astype(int)  # Explicitly cast to integer\n",
        "\n",
        "# Feature Scaling\n",
        "scaler = StandardScaler()\n",
        "numerical_columns = data.select_dtypes(include=['int64', 'float64']).columns\n",
        "\n",
        "scaled_features = scaler.fit_transform(data[numerical_columns])\n",
        "data[numerical_columns] = scaled_features\n",
        "\n",
        "# Addressing Class Imbalance using SMOTE\n",
        "X = data.drop('y', axis=1)\n",
        "smote = SMOTE(random_state=42)\n",
        "X_resampled, y_resampled = smote.fit_resample(X, y)\n",
        "\n",
        "# Splitting the dataset\n",
        "X_train, X_test, y_train, y_test = train_test_split(X_resampled, y_resampled, test_size=0.2, random_state=42, stratify=y_resampled)\n"
      ]
    }
  ]
}